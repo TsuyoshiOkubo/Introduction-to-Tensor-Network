{
 "cells": [
  {
   "cell_type": "markdown",
   "metadata": {},
   "source": [
    "## Exercise 2-2: Comparison between iTEBD and TRG for 2d Ising model\n",
    "2023, March, Tsuyoshi Okubo\n",
    "\n",
    "This code simulate 2d Ising model on the square lattice, whose Hamiltonian is given by\n",
    " $$ \\mathcal{H} = -J \\sum_{\\langle i,j\\rangle} S_i S_j$$\n",
    "where $S_i = \\pm 1$. \n",
    "\n",
    "We will calculate the free energy density, $f$, of the system based on infinite Time Evolving Block Decimation (iTEBD) described in R. Orus and G. Vidal Phys. Rev. B 78, 155117 (2008).\n",
    "\n",
    "The implementation of the algorithm is taken github repository https://github.com/TsuyoshiOkubo/classical_iTEBD\n",
    "\n",
    "Here we compare the errors of the free energy density in iTEBD and TRG. In the case of TRG, sufficiently large $L = 2^n$ is considered as an approximation of the infinite system.\n",
    "\n",
    "#### Parameters for iTEBD simulations\n",
    "* chi_max: the maxmum bond dimenison in iMPS.\n",
    "* max_itr: the maxumn number of the iteration to calculate the eigenvector for the largest eigenvalue. \n",
    "* seed: the seed for random number generator used for preparing the initial iMPS. \n",
    "\n",
    "#### Parameters for TRG simulations\n",
    "* n: size of the system which corresponds to $L = 2^n$ for $L\\times L$ square lattice.\n",
    "* D: Bond dimension. It is used as maximum value to keep at the low rank apporximation based on SVD. \n"
   ]
  },
  {
   "cell_type": "code",
   "execution_count": 6,
   "metadata": {},
   "outputs": [],
   "source": [
    "import numpy as np\n",
    "try:\n",
    "    import classical_iTEBD_lib\n",
    "except ImportError:\n",
    "    !wget https://raw.githubusercontent.com/TsuyoshiOkubo/Introduction-to-Tensor-Network/main/Exercise/classical_iTEBD_lib.py\n",
    "    import classical_iTEBD_lib\n",
    "try:\n",
    "    import TRG_lib\n",
    "except ImportError:\n",
    "    !wget https://raw.githubusercontent.com/TsuyoshiOkubo/Introduction-to-Tensor-Network/main/Exercise/TRG_lib.py\n",
    "    import TRG_lib\n",
    "\n",
    "import pickle\n",
    "import os\n",
    "\n",
    "%matplotlib inline\n",
    "from matplotlib import pyplot"
   ]
  },
  {
   "cell_type": "code",
   "execution_count": 7,
   "metadata": {},
   "outputs": [],
   "source": [
    "Tc = 2.0/np.log(1.0+np.sqrt(2.0)) ## The critical temperature of the Ising model \n",
    "\n",
    "T = 0.9 * Tc ## Temperature \n",
    "\n",
    "### for iTEBD ###\n",
    "chi_max_list = [4, 6, 8, 10, 12, 14, 16] ## bond dimensions for iTEBD\n",
    "max_itr = 200 ## maxmun number of iteration for iTEBD\n",
    "seed = 13 ## seed for random number generator used for preparing initial tenors\n",
    "\n",
    "### for TRG ###\n",
    "n = 20 ## L = 2^n. Note that n must be sufficiently large \n",
    "D_list = [4, 6, 8, 10, 12, 14, 16] ## bond dimensions for TRG\n",
    "\n",
    "L = 2**n\n",
    "TRG_step = 2*n -1\n",
    "\n",
    "## output files\n",
    "data_file_iTEBD = \"iTEBDdata_ex2-2.dat\" ## Simulation data will be seved to this file.\n",
    "data_file = \"trgdata_ex2-2_n\"+repr(n)+\".dat\" ## Simulation data will be seved to this file.\n"
   ]
  },
  {
   "cell_type": "code",
   "execution_count": 8,
   "metadata": {},
   "outputs": [
    {
     "name": "stdout",
     "output_type": "stream",
     "text": [
      "## calculation has finised at 53 steps\n",
      "T, free_energy_density, exact value = 2.04226678279172 -2.0583867438875796 -2.0583867640251055\n",
      "T, magnetization, exact value = 2.04226678279172 -0.8959403354704255 0.8959375370799653\n",
      "## calculate correlation length\n",
      "T, correlation lenght 2.04226678279172 1.7597004266052123\n",
      "## calculation has finised at 56 steps\n",
      "T, free_energy_density, exact value = 2.04226678279172 -2.0583867639644144 -2.0583867640251055\n",
      "T, magnetization, exact value = 2.04226678279172 -0.8959375529462229 0.8959375370799653\n",
      "## calculate correlation length\n",
      "T, correlation lenght 2.04226678279172 2.0864862339401693\n",
      "## calculation has finised at 58 steps\n",
      "T, free_energy_density, exact value = 2.04226678279172 -2.05838676402456 -2.0583867640251055\n",
      "T, magnetization, exact value = 2.04226678279172 -0.8959375372486682 0.8959375370799653\n",
      "## calculate correlation length\n",
      "T, correlation lenght 2.04226678279172 2.2480891524387956\n",
      "## calculation has finised at 58 steps\n",
      "T, free_energy_density, exact value = 2.04226678279172 -2.0583867640251166 -2.0583867640251055\n",
      "T, magnetization, exact value = 2.04226678279172 -0.8959375370816636 0.8959375370799653\n",
      "## calculate correlation length\n",
      "T, correlation lenght 2.04226678279172 2.359856127054984\n",
      "## calculation has finised at 58 steps\n",
      "T, free_energy_density, exact value = 2.04226678279172 -2.0583867640250433 -2.0583867640251055\n",
      "T, magnetization, exact value = 2.04226678279172 -0.8959375370809274 0.8959375370799653\n",
      "## calculate correlation length\n",
      "T, correlation lenght 2.04226678279172 2.360673398761811\n",
      "## calculation has finised at 58 steps\n",
      "T, free_energy_density, exact value = 2.04226678279172 -2.0583867640179374 -2.0583867640251055\n",
      "T, magnetization, exact value = 2.04226678279172 -0.8959375370805196 0.8959375370799653\n",
      "## calculate correlation length\n",
      "T, correlation lenght 2.04226678279172 2.430931877173017\n",
      "## calculation has finised at 58 steps\n",
      "T, free_energy_density, exact value = 2.04226678279172 -2.058386764025252 -2.0583867640251055\n",
      "T, magnetization, exact value = 2.04226678279172 -0.8959375370802085 0.8959375370799653\n",
      "## calculate correlation length\n",
      "T, correlation lenght 2.04226678279172 2.4310578876234135\n",
      "CPU times: user 5.11 s, sys: 2.53 s, total: 7.63 s\n",
      "Wall time: 1.64 s\n"
     ]
    }
   ],
   "source": [
    "%%time\n",
    "## iTEBD simulation\n",
    "free_energy_density = []\n",
    "mag = []\n",
    "xi = []\n",
    "f_ex = []\n",
    "mag_ex = []\n",
    "for chi_max in chi_max_list:\n",
    "    f_temp, mag_temp, xi_temp, f_ex_temp, mag_ex_temp = classical_iTEBD_lib.iTEBD_Square_Ising(T,chi_max,seed=seed,max_itr=max_itr)\n",
    "    free_energy_density.append(f_temp)\n",
    "    mag.append(mag_temp)\n",
    "    xi.append(xi_temp)\n",
    "    f_ex.append(f_ex_temp)\n",
    "    mag_ex.append(mag_ex_temp)"
   ]
  },
  {
   "cell_type": "code",
   "execution_count": 9,
   "metadata": {},
   "outputs": [
    {
     "name": "stdout",
     "output_type": "stream",
     "text": [
      "T, free_energy_density = 2.04226678279172 -2.0577209347338945\n",
      "T, free_energy_density = 2.04226678279172 -2.0583075284209564\n",
      "T, free_energy_density = 2.04226678279172 -2.058376708367407\n",
      "T, free_energy_density = 2.04226678279172 -2.0583805547492813\n",
      "T, free_energy_density = 2.04226678279172 -2.058381513834552\n",
      "T, free_energy_density = 2.04226678279172 -2.0583842797202134\n",
      "T, free_energy_density = 2.04226678279172 -2.0583850440743987\n",
      "CPU times: user 13.9 s, sys: 4.55 s, total: 18.4 s\n",
      "Wall time: 2.57 s\n"
     ]
    }
   ],
   "source": [
    "%%time\n",
    "## TRG simulation\n",
    "free_energy_density_trg = []\n",
    "for D in D_list:\n",
    "    free_energy_density_trg.append(TRG_lib.TRG_Square_Ising(T,D,TRG_step,Energy_flag=False))\n"
   ]
  },
  {
   "cell_type": "code",
   "execution_count": 20,
   "metadata": {},
   "outputs": [
    {
     "data": {
      "text/plain": [
       "<function BufferedWriter.close>"
      ]
     },
     "execution_count": 20,
     "metadata": {},
     "output_type": "execute_result"
    }
   ],
   "source": [
    "## save data for iTEBD\n",
    "f = open(data_file_iTEBD,\"wb\")\n",
    "obs_list_all = [free_energy_density, mag, xi, f_ex, mag_ex, chi_max_list, T]\n",
    "pickle.dump(obs_list_all,f)\n",
    "f.close\n",
    "\n",
    "## save data for TRG\n",
    "f = open(data_file,\"wb\")\n",
    "obs_list_all = [free_energy_density_trg, D_list, T]\n",
    "pickle.dump(obs_list_all,f)\n",
    "f.close"
   ]
  },
  {
   "cell_type": "code",
   "execution_count": 21,
   "metadata": {},
   "outputs": [
    {
     "data": {
      "text/plain": [
       "<matplotlib.legend.Legend at 0x156e298e0>"
      ]
     },
     "execution_count": 21,
     "metadata": {},
     "output_type": "execute_result"
    },
    {
     "data": {
      "image/png": "[encoded data removed]",
      "text/plain": [
       "<Figure size 432x288 with 1 Axes>"
      ]
     },
     "metadata": {
      "needs_background": "light"
     },
     "output_type": "display_data"
    },
    {
     "data": {
      "image/png": "[encoded data removed]",
      "text/plain": [
       "<Figure size 432x288 with 1 Axes>"
      ]
     },
     "metadata": {
      "needs_background": "light"
     },
     "output_type": "display_data"
    }
   ],
   "source": [
    "## plot observables\n",
    "pyplot.figure()\n",
    "pyplot.title(\"Free Energy\")\n",
    "pyplot.xlabel(\"$\\\\chi$ or $D$\")\n",
    "pyplot.ylabel(\"$f$\")\n",
    "pyplot.plot(chi_max_list,free_energy_density,\"o\",label = \"iTEBD\")\n",
    "pyplot.plot(D_list,free_energy_density_trg,\"o\",label = \"TRG\")\n",
    "pyplot.axhline(f_ex[0], 0, 1,c=\"red\", linestyle='dashed', label=\"exact\")\n",
    "pyplot.legend()\n",
    "\n",
    "pyplot.figure()\n",
    "pyplot.title(\"Free Energy Error\")\n",
    "pyplot.xlabel(\"$\\\\chi$ or $D$\")\n",
    "pyplot.ylabel(\"$\\\\Delta f$\")\n",
    "pyplot.plot(chi_max_list,np.abs(free_energy_density - f_ex[0]),\"o\",label = \"iTEBD\")\n",
    "pyplot.plot(D_list,np.abs(free_energy_density_trg-f_ex[0]),\"o\",label = \"TRG\")\n",
    "pyplot.yscale(\"log\")\n",
    "pyplot.legend()\n",
    "\n"
   ]
  },
  {
   "cell_type": "code",
   "execution_count": null,
   "metadata": {},
   "outputs": [],
   "source": []
  }
 ],
 "metadata": {
  "kernelspec": {
   "display_name": "Python 3 (ipykernel)",
   "language": "python",
   "name": "python3"
  },
  "language_info": {
   "codemirror_mode": {
    "name": "ipython",
    "version": 3
   },
   "file_extension": ".py",
   "mimetype": "text/x-python",
   "name": "python",
   "nbconvert_exporter": "python",
   "pygments_lexer": "ipython3",
   "version": "3.9.10"
  }
 },
 "nbformat": 4,
 "nbformat_minor": 4
}
