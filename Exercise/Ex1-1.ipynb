{
 "cells": [
  {
   "cell_type": "markdown",
   "metadata": {},
   "source": [
    "# Exercise 1-1: Tensor Renormalization Group for 2d Ising model\n",
    "2020, July, Tsuyoshi Okubo  \n",
    "2021, July, Tsuyoshi Okubo  \n",
    "2023, March, Tsuyoshi Okubo\n",
    "\n",
    "This code simulate 2d Ising model on the square lattice, whose Hamiltonian is given by\n",
    " $$ \\mathcal{H} = -J \\sum_{\\langle i,j\\rangle} S_i S_j$$\n",
    "where $S_i = \\pm 1$. \n",
    "\n",
    "We will calculate the free energy density, $f$, of the system based on Tensor Renormalization Group (TRG) proposed in M. Levin and C. P. Nave, PRL **99** 120601 (2007).\n",
    "\n",
    "Then by using numerical differentiation, we will caluculate \n",
    "* energy density: $E = f - T \\frac{d f}{d T}$\n",
    "* specific heat: $C = \\frac{d E}{d T} = -T\\frac{d^2 f}{d T^2}$\n",
    "\n",
    "The calculated observables will be compared with the exact values calculated by the code distributed at\n",
    "https://github.com/todo-group/exact\n",
    "developped by Prof. Synge Todo. \n",
    "\n",
    "(Notice that energy and specific heat are approximatedly calculated by numerical differentiation of the exact free energy, as like the case of TRG.)\n",
    "\n",
    "#### Parameters for TRG simulations\n",
    "* n: size of the system which corresponds to $L = 2^n$ for $L\\times L$ square lattice.\n",
    "* D: Bond dimension. It is used as maximum value to keep at the low rank apporximation based on SVD. "
   ]
  },
  {
   "cell_type": "code",
   "execution_count": 1,
   "metadata": {},
   "outputs": [],
   "source": [
    "import numpy as np\n",
    "try:\n",
    "    import TRG_lib\n",
    "except ImportError:\n",
    "    !wget https://raw.githubusercontent.com/TsuyoshiOkubo/Introduction-to-Tensor-Network/main/Exercise/TRG_lib.py\n",
    "    import TRG_lib\n",
    "\n",
    "import os\n",
    "import pickle\n",
    "\n",
    "%matplotlib inline\n",
    "from matplotlib import pyplot"
   ]
  },
  {
   "cell_type": "code",
   "execution_count": 2,
   "metadata": {},
   "outputs": [],
   "source": [
    "Tc = 2.0/np.log(1.0+np.sqrt(2.0)) ## The critical temperature of the Ising model \n",
    "\n",
    "### input parameters ###\n",
    "n = 7 ## L = 2^n\n",
    "T_min = 2.0\n",
    "T_max = 2.7\n",
    "T_step = 0.01\n",
    "\n",
    "T_list=np.arange(T_min,T_max,T_step)\n",
    "\n",
    "D = 4 ## bond dimension\n",
    "\n",
    "### input parameters ###\n",
    "\n",
    "L = 2**n\n",
    "TRG_step = 2*n -1\n",
    "\n",
    "data_file = \"trgdata_ex1-1_D\"+repr(D)+\"_L\"+repr(L)+\".dat\" ## Simulation data will be seved to this file.\n"
   ]
  },
  {
   "cell_type": "code",
   "execution_count": 3,
   "metadata": {},
   "outputs": [],
   "source": [
    "def Calculate_EC(T,f):\n",
    "    T_num = len(T)\n",
    "    E = np.empty(T_num-2)\n",
    "    C = np.empty(T_num-2)\n",
    "    T_cut = np.empty(T_num-2)\n",
    "    for i in range(0,T_num-2):\n",
    "        E[i] = f[i+1]-T[i+1] * (f[i+2]-f[i])/(T[i+2]-T[i])\n",
    "        C[i] = -T[i+1] * (f[i+2]+f[i]-2.0*f[i+1])/(T[i+2]-T[i+1])**2\n",
    "        T_cut[i] = T[i+1]\n",
    "    return T_cut,E,C\n",
    "\n"
   ]
  },
  {
   "cell_type": "code",
   "execution_count": 4,
   "metadata": {},
   "outputs": [],
   "source": [
    "def read_free_energy(file_name):\n",
    "    T = []\n",
    "    f = []\n",
    "    for line in open(file_name, \"r\"):\n",
    "        data = line.split()\n",
    "        if data[0] ==\"#\":\n",
    "            header = line\n",
    "            continue\n",
    "        T.append(float(data[4]))\n",
    "        f.append(float(data[6]))\n",
    "    return T,f\n"
   ]
  },
  {
   "cell_type": "code",
   "execution_count": 5,
   "metadata": {},
   "outputs": [
    {
     "name": "stdout",
     "output_type": "stream",
     "text": [
      "T, free_energy_density = 2.0 -2.051135945213585\n",
      "T, free_energy_density = 2.01 -2.0526555969730143\n",
      "T, free_energy_density = 2.0199999999999996 -2.054211060194283\n",
      "T, free_energy_density = 2.0299999999999994 -2.05580313544757\n",
      "T, free_energy_density = 2.039999999999999 -2.0574326609027627\n",
      "T, free_energy_density = 2.049999999999999 -2.0591005167048917\n",
      "T, free_energy_density = 2.0599999999999987 -2.0608076301385374\n",
      "T, free_energy_density = 2.0699999999999985 -2.0625549817794786\n",
      "T, free_energy_density = 2.0799999999999983 -2.06434361289751\n",
      "T, free_energy_density = 2.089999999999998 -2.0661746344681564\n",
      "T, free_energy_density = 2.099999999999998 -2.0680492382872004\n",
      "T, free_energy_density = 2.1099999999999977 -2.0699687108854388\n",
      "T, free_energy_density = 2.1199999999999974 -2.071934451253208\n",
      "T, free_energy_density = 2.1299999999999972 -2.073947993879663\n",
      "T, free_energy_density = 2.139999999999997 -2.0760110394288214\n",
      "T, free_energy_density = 2.149999999999997 -2.0781254967862828\n",
      "T, free_energy_density = 2.1599999999999966 -2.0802935427925164\n",
      "T, free_energy_density = 2.1699999999999964 -2.0825177110499262\n",
      "T, free_energy_density = 2.179999999999996 -2.0848010321143446\n",
      "T, free_energy_density = 2.189999999999996 -2.087147273932943\n",
      "T, free_energy_density = 2.1999999999999957 -2.0895614063973067\n",
      "T, free_energy_density = 2.2099999999999955 -2.0920506578970004\n",
      "T, free_energy_density = 2.2199999999999953 -2.0946272554554675\n",
      "T, free_energy_density = 2.229999999999995 -2.097313381354533\n",
      "T, free_energy_density = 2.239999999999995 -2.100133588104075\n",
      "T, free_energy_density = 2.2499999999999947 -2.103085311074536\n",
      "T, free_energy_density = 2.2599999999999945 -2.1061468610574647\n",
      "T, free_energy_density = 2.2699999999999942 -2.109301873617618\n",
      "T, free_energy_density = 2.279999999999994 -2.112540812374256\n",
      "T, free_energy_density = 2.289999999999994 -2.115857351326132\n",
      "T, free_energy_density = 2.2999999999999936 -2.1192466364426394\n",
      "T, free_energy_density = 2.3099999999999934 -2.122704633143403\n",
      "T, free_energy_density = 2.319999999999993 -2.1262278537860184\n",
      "T, free_energy_density = 2.329999999999993 -2.1298132183246836\n",
      "T, free_energy_density = 2.3399999999999928 -2.1334579691295397\n",
      "T, free_energy_density = 2.3499999999999925 -2.137159612451532\n",
      "T, free_energy_density = 2.3599999999999923 -2.1409158753356863\n",
      "T, free_energy_density = 2.369999999999992 -2.1447246725652485\n",
      "T, free_energy_density = 2.379999999999992 -2.148584080596706\n",
      "T, free_energy_density = 2.3899999999999917 -2.152492316589635\n",
      "T, free_energy_density = 2.3999999999999915 -2.1564477212642497\n",
      "T, free_energy_density = 2.4099999999999913 -2.1604487447003815\n",
      "T, free_energy_density = 2.419999999999991 -2.164493934437829\n",
      "T, free_energy_density = 2.429999999999991 -2.168581925404376\n",
      "T, free_energy_density = 2.4399999999999906 -2.1727114313142155\n",
      "T, free_energy_density = 2.4499999999999904 -2.176881237263011\n",
      "T, free_energy_density = 2.45999999999999 -2.1810901933068365\n",
      "T, free_energy_density = 2.46999999999999 -2.185337208857761\n",
      "T, free_energy_density = 2.4799999999999898 -2.1896212477630015\n",
      "T, free_energy_density = 2.4899999999999896 -2.1939413239607357\n",
      "T, free_energy_density = 2.4999999999999893 -2.198296497625815\n",
      "T, free_energy_density = 2.509999999999989 -2.202685871734371\n",
      "T, free_energy_density = 2.519999999999989 -2.2071085889887434\n",
      "T, free_energy_density = 2.5299999999999887 -2.2115638290540214\n",
      "T, free_energy_density = 2.5399999999999885 -2.216050806065481\n",
      "T, free_energy_density = 2.5499999999999883 -2.2205687663726805\n",
      "T, free_energy_density = 2.559999999999988 -2.2251169864911295\n",
      "T, free_energy_density = 2.569999999999988 -2.2296947712369173\n",
      "T, free_energy_density = 2.5799999999999876 -2.234301452023155\n",
      "T, free_energy_density = 2.5899999999999874 -2.2389363853001076\n",
      "T, free_energy_density = 2.599999999999987 -2.243598951123331\n",
      "T, free_energy_density = 2.609999999999987 -2.248288551836275\n",
      "T, free_energy_density = 2.619999999999987 -2.253004610855506\n",
      "T, free_energy_density = 2.6299999999999866 -2.2577465715482163\n",
      "T, free_energy_density = 2.6399999999999864 -2.2625138961929836\n",
      "T, free_energy_density = 2.649999999999986 -2.2673060650157795\n",
      "T, free_energy_density = 2.659999999999986 -2.272122575294199\n",
      "T, free_energy_density = 2.6699999999999857 -2.2769629405236644\n",
      "T, free_energy_density = 2.6799999999999855 -2.28182668964007\n",
      "T, free_energy_density = 2.6899999999999853 -2.2867133662939154\n",
      "T, free_energy_density = 2.699999999999985 -2.2916225281715525\n",
      "CPU times: user 120 ms, sys: 8.53 ms, total: 129 ms\n",
      "Wall time: 126 ms\n"
     ]
    }
   ],
   "source": [
    "%%time\n",
    "## TRG simulation\n",
    "free_energy_density = []\n",
    "for T in T_list:\n",
    "    free_energy_density.append(TRG_lib.TRG_Square_Ising(T,D,TRG_step,Energy_flag=False))\n"
   ]
  },
  {
   "cell_type": "code",
   "execution_count": 6,
   "metadata": {},
   "outputs": [],
   "source": [
    "filename_exact = \"exact_output/free_energy_exact_L\"+repr(L)+\".dat\"\n",
    "if not os.path.exists(filename_exact):\n",
    "    !wget https://raw.githubusercontent.com/TsuyoshiOkubo/Introduction-to-Tensor-Network/main/Exercise/{filename_exact} -P exact_output\n",
    "\n",
    "T_e,f_e = read_free_energy(filename_exact)\n"
   ]
  },
  {
   "cell_type": "code",
   "execution_count": 7,
   "metadata": {},
   "outputs": [
    {
     "data": {
      "text/plain": [
       "<function BufferedWriter.close>"
      ]
     },
     "execution_count": 7,
     "metadata": {},
     "output_type": "execute_result"
    }
   ],
   "source": [
    " ## Caluculate Energy and Specific heat by numerical differentiation\n",
    "T_cut, E, C = Calculate_EC(T_list, free_energy_density)\n",
    "T_cut_e, E_e, C_e = Calculate_EC(T_e, f_e)\n",
    "\n",
    "## save data\n",
    "f = open(data_file,\"wb\")\n",
    "obs_list = [free_energy_density, E, C, T_list]\n",
    "pickle.dump(obs_list,f)\n",
    "f.close"
   ]
  },
  {
   "cell_type": "code",
   "execution_count": 8,
   "metadata": {},
   "outputs": [
    {
     "data": {
      "text/plain": [
       "<matplotlib.legend.Legend at 0x11fd162b0>"
      ]
     },
     "execution_count": 8,
     "metadata": {},
     "output_type": "execute_result"
    },
    {
     "data": {
      "image/png": "[encoded data removed]",
      "text/plain": [
       "<Figure size 432x288 with 1 Axes>"
      ]
     },
     "metadata": {
      "needs_background": "light"
     },
     "output_type": "display_data"
    },
    {
     "data": {
      "image/png": "[encoded data removed]",
      "text/plain": [
       "<Figure size 432x288 with 1 Axes>"
      ]
     },
     "metadata": {
      "needs_background": "light"
     },
     "output_type": "display_data"
    },
    {
     "data": {
      "image/png": "[encoded data removed]",
      "text/plain": [
       "<Figure size 432x288 with 1 Axes>"
      ]
     },
     "metadata": {
      "needs_background": "light"
     },
     "output_type": "display_data"
    }
   ],
   "source": [
    "## plot observables\n",
    "pyplot.figure()\n",
    "pyplot.title(\"Free Energy\")\n",
    "pyplot.xlabel(\"$T$\")\n",
    "pyplot.ylabel(\"$f$\")\n",
    "pyplot.plot(T_list,free_energy_density,\"o\",label = \"L=\"+repr(L)+\":TRG\")\n",
    "pyplot.plot(T_e,f_e,\"-\",label = \"Exact\")\n",
    "pyplot.legend()\n",
    "\n",
    "pyplot.figure()\n",
    "pyplot.title(\"Energy\")\n",
    "pyplot.xlabel(\"$T$\")\n",
    "pyplot.ylabel(\"$E$\")\n",
    "pyplot.plot(T_cut,E,\"o\",label = \"L=\"+repr(L))\n",
    "pyplot.plot(T_cut_e,E_e,\"-\",label = \"Exact\")\n",
    "pyplot.legend()\n",
    "\n",
    "pyplot.figure()\n",
    "pyplot.title(\"Specific heat\")\n",
    "pyplot.xlabel(\"$T$\")\n",
    "pyplot.ylabel(\"$C$\")\n",
    "pyplot.plot(T_cut,C,\"o\",label = \"L=\"+repr(L))\n",
    "pyplot.plot(T_cut_e,C_e,\"-\",label = \"Exact\")\n",
    "pyplot.legend()"
   ]
  },
  {
   "cell_type": "code",
   "execution_count": null,
   "metadata": {},
   "outputs": [],
   "source": []
  }
 ],
 "metadata": {
  "kernelspec": {
   "display_name": "Python 3 (ipykernel)",
   "language": "python",
   "name": "python3"
  },
  "language_info": {
   "codemirror_mode": {
    "name": "ipython",
    "version": 3
   },
   "file_extension": ".py",
   "mimetype": "text/x-python",
   "name": "python",
   "nbconvert_exporter": "python",
   "pygments_lexer": "ipython3",
   "version": "3.9.10"
  }
 },
 "nbformat": 4,
 "nbformat_minor": 4
}
